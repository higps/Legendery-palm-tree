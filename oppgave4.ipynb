{
 "cells": [
  {
   "cell_type": "code",
   "execution_count": 10,
   "metadata": {},
   "outputs": [],
   "source": [
    "import pandas as pd\n",
    "import requests"
   ]
  },
  {
   "cell_type": "code",
   "execution_count": 11,
   "metadata": {},
   "outputs": [],
   "source": [
    "\n",
    "lat = 59.9333\n",
    "lon = 10.7166\n",
    "\n",
    "url = f\"https://api.met.no/weatherapi/nowcast/2.0/complete?lat={lat}&lon={lon}\"\n",
    "headers = {\"User-Agent\": \"WeatherTest/1.0 skybert@gmail.com\"}\n",
    "\n",
    "response = requests.get(url, headers=headers)\n",
    "result = {}\n",
    "\n",
    "if response.status_code == 200:\n",
    "    result = response.json()\n",
    "else:\n",
    "    print(f\"Error: {response.status_code}\")\n",
    "    print(response.text)"
   ]
  },
  {
   "cell_type": "code",
   "execution_count": null,
   "metadata": {},
   "outputs": [],
   "source": []
  },
  {
   "cell_type": "code",
   "execution_count": 12,
   "metadata": {},
   "outputs": [
    {
     "name": "stdout",
     "output_type": "stream",
     "text": [
      "{'type': 'Feature', 'geometry': {'type': 'Point', 'coordinates': [10.7166, 59.9333, 55]}, 'properties': {'meta': {'updated_at': '2024-02-12T15:29:05Z', 'units': {'air_temperature': 'celsius', 'precipitation_amount': 'mm', 'precipitation_rate': 'mm/h', 'relative_humidity': '%', 'wind_from_direction': 'degrees', 'wind_speed': 'm/s', 'wind_speed_of_gust': 'm/s'}, 'radar_coverage': 'ok'}, 'timeseries': [{'time': '2024-02-12T15:30:00Z', 'data': {'instant': {'details': {'air_temperature': -3.8, 'precipitation_rate': 0.4, 'relative_humidity': 80.5, 'wind_from_direction': 36.1, 'wind_speed': 4.5, 'wind_speed_of_gust': 8.9}}, 'next_1_hours': {'summary': {'symbol_code': 'snow'}, 'details': {'precipitation_amount': 0.5}}}}, {'time': '2024-02-12T15:35:00Z', 'data': {'instant': {'details': {'precipitation_rate': 0.4}}}}, {'time': '2024-02-12T15:40:00Z', 'data': {'instant': {'details': {'precipitation_rate': 0.4}}}}, {'time': '2024-02-12T15:45:00Z', 'data': {'instant': {'details': {'precipitation_rate': 0.5}}}}, {'time': '2024-02-12T15:50:00Z', 'data': {'instant': {'details': {'precipitation_rate': 0.4}}}}, {'time': '2024-02-12T15:55:00Z', 'data': {'instant': {'details': {'precipitation_rate': 0.4}}}}, {'time': '2024-02-12T16:00:00Z', 'data': {'instant': {'details': {'precipitation_rate': 0.4}}}}, {'time': '2024-02-12T16:05:00Z', 'data': {'instant': {'details': {'precipitation_rate': 0.5}}}}, {'time': '2024-02-12T16:10:00Z', 'data': {'instant': {'details': {'precipitation_rate': 0.4}}}}, {'time': '2024-02-12T16:15:00Z', 'data': {'instant': {'details': {'precipitation_rate': 0.4}}}}, {'time': '2024-02-12T16:20:00Z', 'data': {'instant': {'details': {'precipitation_rate': 0.4}}}}, {'time': '2024-02-12T16:25:00Z', 'data': {'instant': {'details': {'precipitation_rate': 0.4}}}}, {'time': '2024-02-12T16:30:00Z', 'data': {'instant': {'details': {'precipitation_rate': 0.4}}}}, {'time': '2024-02-12T16:35:00Z', 'data': {'instant': {'details': {'precipitation_rate': 0.5}}}}, {'time': '2024-02-12T16:40:00Z', 'data': {'instant': {'details': {'precipitation_rate': 0.5}}}}, {'time': '2024-02-12T16:45:00Z', 'data': {'instant': {'details': {'precipitation_rate': 0.5}}}}, {'time': '2024-02-12T16:50:00Z', 'data': {'instant': {'details': {'precipitation_rate': 0.6}}}}, {'time': '2024-02-12T16:55:00Z', 'data': {'instant': {'details': {'precipitation_rate': 0.7}}}}, {'time': '2024-02-12T17:00:00Z', 'data': {'instant': {'details': {'precipitation_rate': 0.7}}}}, {'time': '2024-02-12T17:05:00Z', 'data': {'instant': {'details': {'precipitation_rate': 0.6}}}}, {'time': '2024-02-12T17:10:00Z', 'data': {'instant': {'details': {'precipitation_rate': 0.6}}}}, {'time': '2024-02-12T17:15:00Z', 'data': {'instant': {'details': {'precipitation_rate': 0.5}}}}, {'time': '2024-02-12T17:20:00Z', 'data': {'instant': {'details': {'precipitation_rate': 0.5}}}}]}}\n"
     ]
    }
   ],
   "source": [
    "print(result)"
   ]
  },
  {
   "cell_type": "code",
   "execution_count": 23,
   "metadata": {},
   "outputs": [
    {
     "data": {
      "text/plain": [
       "'2024-02-12T15:29:05Z'"
      ]
     },
     "execution_count": 23,
     "metadata": {},
     "output_type": "execute_result"
    }
   ],
   "source": [
    "updated_at = result[\"properties\"][\"meta\"][\"updated_at\"]"
   ]
  },
  {
   "cell_type": "code",
   "execution_count": 22,
   "metadata": {},
   "outputs": [
    {
     "name": "stdout",
     "output_type": "stream",
     "text": [
      "updated_at 2024-02-12T15:29:05Z\n",
      "units {'air_temperature': 'celsius', 'precipitation_amount': 'mm', 'precipitation_rate': 'mm/h', 'relative_humidity': '%', 'wind_from_direction': 'degrees', 'wind_speed': 'm/s', 'wind_speed_of_gust': 'm/s'}\n",
      "radar_coverage ok\n"
     ]
    }
   ],
   "source": [
    "# for key in result.keys():\n",
    "#     print(key)\n",
    "\n",
    "for key, val in result[\"properties\"][\"meta\"].items():\n",
    "    print(key,val)"
   ]
  }
 ],
 "metadata": {
  "kernelspec": {
   "display_name": "Python 3",
   "language": "python",
   "name": "python3"
  },
  "language_info": {
   "codemirror_mode": {
    "name": "ipython",
    "version": 3
   },
   "file_extension": ".py",
   "mimetype": "text/x-python",
   "name": "python",
   "nbconvert_exporter": "python",
   "pygments_lexer": "ipython3",
   "version": "3.11.3"
  }
 },
 "nbformat": 4,
 "nbformat_minor": 2
}
