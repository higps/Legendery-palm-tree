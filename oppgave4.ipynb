{
 "cells": [
  {
   "cell_type": "markdown",
   "metadata": {},
   "source": [
    "Bruker notebooks her ettersom koden ble relativt mye større\n"
   ]
  },
  {
   "cell_type": "code",
   "execution_count": 481,
   "metadata": {},
   "outputs": [],
   "source": [
    "import pandas as pd\n",
    "import requests"
   ]
  },
  {
   "cell_type": "code",
   "execution_count": 482,
   "metadata": {},
   "outputs": [],
   "source": [
    "import pytz\n",
    "from datetime import datetime\n",
    "\n",
    "# Funksjon som endrer tiden til lokal tid, eller annen tid etter behov og formaterer den i format som gir mening\n",
    "def convert_time_stamp(timestamp_str):\n",
    "\n",
    "    utc_timezone = pytz.timezone('UTC')\n",
    "    local_timezone = pytz.timezone('Europe/Copenhagen') \n",
    "    timestamp_utc = datetime.strptime(timestamp_str, '%Y-%m-%dT%H:%M:%SZ')\n",
    "    timestamp_utc = utc_timezone.localize(timestamp_utc)\n",
    "    timestamp_local = timestamp_utc.astimezone(local_timezone)\n",
    "    local_timestamp_str = timestamp_local.strftime('%Y-%m-%d %H:%M:%S %Z')\n",
    "\n",
    "    return local_timestamp_str"
   ]
  },
  {
   "cell_type": "code",
   "execution_count": 483,
   "metadata": {},
   "outputs": [],
   "source": [
    "#Her kan du spesifisere hvilken by\n",
    "city_string = \"Bergen\"\n",
    "\n",
    "city = {'Oslo': (59.9333, 10.7166), 'Bergen': (60.3894, 5.33), 'Trondheim': (63.4308, 10.4034), 'Tromsø': (69.6827, 18.9427), 'Vardø': (70.3705, 31.0241)}\n",
    "lat = city[city_string][0]\n",
    "lon = city[city_string][1]\n",
    "\n",
    "# velger å bruke nowcast delen av apiet for å finne den nyeste mest relevante informasjonen om været\n",
    "url = f\"https://api.met.no/weatherapi/nowcast/2.0/complete?lat={lat}&lon={lon}\"\n",
    "headers = {\"User-Agent\": \"WeatherTest/1.0 skybert@gmail.com\"}\n",
    "\n",
    "response = requests.get(url, headers=headers)\n",
    "result = {}\n",
    "\n",
    "if response.status_code == 200:\n",
    "    result = response.json()\n",
    "else:\n",
    "    print(f\"Error: {response.status_code}\")\n",
    "    print(response.text)"
   ]
  },
  {
   "cell_type": "code",
   "execution_count": 484,
   "metadata": {},
   "outputs": [],
   "source": [
    "# Lage variabler med dictonaries med relevant informasjon\n",
    "\n",
    "units_dict = result[\"properties\"][\"meta\"][\"units\"]\n",
    "units_measured_list = result[\"properties\"][\"timeseries\"]\n"
   ]
  },
  {
   "cell_type": "code",
   "execution_count": 485,
   "metadata": {},
   "outputs": [],
   "source": [
    "# Velger å bruke pandas dataframes, greit om datamengdene er store og om mye transformering må gjøres på mye data så er det raskere i pandas enn i python. Skalerbart\n",
    "\n",
    "unit_df = pd.DataFrame.from_dict(units_dict, orient='index', columns=['Unit'])\n",
    "unit_df.index.name = 'Attribute'"
   ]
  },
  {
   "cell_type": "code",
   "execution_count": 486,
   "metadata": {},
   "outputs": [],
   "source": [
    "raw_data_df = pd.DataFrame()\n",
    "\n",
    "# blar igjennom listen med dictionaries og filtrer ut det vi vil ha og legger det i en dataframe\n",
    "for i in units_measured_list:\n",
    "    i_details = i[\"data\"][\"instant\"][\"details\"]\n",
    "    i_timestamp = i[\"time\"]\n",
    "\n",
    "    #next 1 hours forekommer bare i første tilfelle, og ikke resten av nedbørsmengden, så vi trenger if statement for å forhindre crash når den ikke fins\n",
    "    if 'next_1_hours' in i['data']:\n",
    "        next_1_hours = i[\"data\"][\"next_1_hours\"][\"summary\"][\"symbol_code\"].replace(\"_\", \" \")\n",
    "    else:\n",
    "        next_1_hours = None\n",
    "    i_details[\"next_1_hour\"] = next_1_hours\n",
    "\n",
    "    raw_data_df[i_timestamp] = i_details"
   ]
  },
  {
   "cell_type": "code",
   "execution_count": 487,
   "metadata": {},
   "outputs": [],
   "source": [
    "#gi navn på kolonner med tidspunkt som gir mening\n",
    "raw_data_df.columns = raw_data_df.columns.map(convert_time_stamp)\n"
   ]
  },
  {
   "cell_type": "code",
   "execution_count": 488,
   "metadata": {},
   "outputs": [],
   "source": [
    "# Gi navn på kolonne slik at det blir lettere å se hva som merges isteden for å bruke indexer\n",
    "raw_data_df.index.name = 'Attribute'"
   ]
  },
  {
   "cell_type": "code",
   "execution_count": 489,
   "metadata": {},
   "outputs": [],
   "source": [
    "# her spesifiseres hva som skal hentes ut, i dette tilfellet alt\n",
    "features = ['air_temperature', 'precipitation_rate', 'relative_humidity', 'wind_from_direction', 'wind_speed',\"next_1_hour\"]\n",
    "selected_rows = raw_data_df.loc[features]\n",
    "precipitation_rate_df = pd.DataFrame(raw_data_df.loc[\"precipitation_rate\"])"
   ]
  },
  {
   "cell_type": "code",
   "execution_count": 490,
   "metadata": {},
   "outputs": [],
   "source": [
    "#Fjerner kolonner med mange nan verdier, med dette datasettet er det kun precipitation_rate som har større tidsrom på målinger\n",
    "selected_rows = selected_rows.dropna(axis=1, how='any')"
   ]
  },
  {
   "cell_type": "code",
   "execution_count": 491,
   "metadata": {},
   "outputs": [],
   "source": [
    "# Her kombinerer vi inn dataen med hvilke målenheter det er\n",
    "combined_df = selected_rows.join(unit_df, how='left')\n",
    "\n",
    "# I dette tilfellet har vi bare 1 NaN verdi som til hører cloud, og vi setter den til å være weather som gir mest mening selv om den egentlig ikke er en målig\n",
    "combined_df = combined_df.fillna('weather')\n",
    "combined_df.index = combined_df.index.str.replace('_', \" \")"
   ]
  },
  {
   "cell_type": "code",
   "execution_count": 492,
   "metadata": {},
   "outputs": [
    {
     "name": "stdout",
     "output_type": "stream",
     "text": [
      "Current weather for: Bergen \n",
      "Measured on: 2024-02-13 20:05:00 CET \n",
      "Weather for lat: 60.3894,lon: 5.33:\n",
      "air temperature: 3.8 celsius\n",
      "precipitation rate: 0.3 mm/h\n",
      "relative humidity: 91.6 %\n",
      "wind from direction: 153.2 degrees\n",
      "wind speed: 6.5 m/s\n",
      "next 1 hour: rain weather\n",
      "Times with precipitation:\n",
      "20:05:00: 0.3\n",
      "20:10:00: 0.7\n",
      "20:15:00: 0.9\n",
      "20:20:00: 0.2\n",
      "20:30:00: 0.2\n",
      "20:35:00: 1.9\n",
      "20:40:00: 2.8\n",
      "20:45:00: 2.4\n",
      "20:50:00: 1.2\n",
      "20:55:00: 0.4\n",
      "21:00:00: 0.2\n",
      "21:05:00: 0.3\n",
      "21:10:00: 0.4\n",
      "21:15:00: 0.7\n",
      "21:20:00: 1.0\n",
      "21:25:00: 1.8\n",
      "21:30:00: 2.0\n",
      "21:35:00: 2.1\n",
      "21:40:00: 1.8\n",
      "21:45:00: 0.9\n"
     ]
    }
   ],
   "source": [
    "print(f\"Current weather for: {city_string} \")\n",
    "print(f\"Measured on: {combined_df.columns[0]} \")\n",
    "print(f\"Weather for lat: {lat},lon: {lon}:\")\n",
    "\n",
    "# Iterer gjennom dataframen og printer all dataen\n",
    "for index, row in combined_df.iterrows():\n",
    "    print(f\"{index}: {row[combined_df.columns[0]]} {row[combined_df.columns[1]]}\")\n",
    "\n",
    "# Om det er noe nedbør så printer den bare når det er nedbør\n",
    "if (precipitation_rate_df.iloc[:, 0] > 0).any():\n",
    "    print(\"Times with precipitation:\")\n",
    "    for index, row in precipitation_rate_df.iterrows():\n",
    "        if (row[precipitation_rate_df.columns[0]] > 0):\n",
    "            #bruker split()[1] her bare for å få ut tidspunktet\n",
    "            print(f\"{index.split()[1]}: {row[precipitation_rate_df.columns[0]]}\")\n",
    "else:\n",
    "    print(\"No further precipitation\")"
   ]
  },
  {
   "cell_type": "markdown",
   "metadata": {},
   "source": [
    "```\n",
    "Eksempel fra output fra 13-02 kl 20:00:\n",
    "Current weather for: Bergen \n",
    "Measured on: 2024-02-13 20:00:00 CET \n",
    "Weather for lat: 60.3894,lon: 5.33:\n",
    "air temperature: 3.7 celsius\n",
    "precipitation rate: 0.0 mm/h\n",
    "relative humidity: 91.7 %\n",
    "wind from direction: 153.0 degrees\n",
    "wind speed: 6.5 m/s\n",
    "next 1 hour: rain weather\n",
    "Times with precipitation:\n",
    "20:05:00: 0.2\n",
    "20:10:00: 0.3\n",
    "20:15:00: 0.7\n",
    "20:20:00: 0.2\n",
    "20:30:00: 0.2\n",
    "20:35:00: 1.3\n",
    "20:40:00: 1.7\n",
    "20:45:00: 1.3\n",
    "20:50:00: 0.4\n",
    "20:55:00: 0.2\n",
    "21:00:00: 0.1\n",
    "21:05:00: 0.2\n",
    "21:10:00: 0.3\n",
    "21:15:00: 0.5\n",
    "21:20:00: 0.6\n",
    "21:25:00: 0.4```"
   ]
  },
  {
   "cell_type": "markdown",
   "metadata": {},
   "source": []
  }
 ],
 "metadata": {
  "kernelspec": {
   "display_name": "Python 3",
   "language": "python",
   "name": "python3"
  },
  "language_info": {
   "codemirror_mode": {
    "name": "ipython",
    "version": 3
   },
   "file_extension": ".py",
   "mimetype": "text/x-python",
   "name": "python",
   "nbconvert_exporter": "python",
   "pygments_lexer": "ipython3",
   "version": "3.11.3"
  }
 },
 "nbformat": 4,
 "nbformat_minor": 2
}
