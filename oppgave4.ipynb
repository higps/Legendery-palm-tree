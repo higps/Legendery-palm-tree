{
 "cells": [
  {
   "cell_type": "code",
   "execution_count": 64,
   "metadata": {},
   "outputs": [],
   "source": [
    "import pandas as pd\n",
    "import requests"
   ]
  },
  {
   "cell_type": "code",
   "execution_count": 65,
   "metadata": {},
   "outputs": [],
   "source": [
    "\n",
    "lat = 59.9333\n",
    "lon = 10.7166\n",
    "\n",
    "url = f\"https://api.met.no/weatherapi/nowcast/2.0/complete?lat={lat}&lon={lon}\"\n",
    "headers = {\"User-Agent\": \"WeatherTest/1.0 skybert@gmail.com\"}\n",
    "\n",
    "response = requests.get(url, headers=headers)\n",
    "result = {}\n",
    "\n",
    "if response.status_code == 200:\n",
    "    result = response.json()\n",
    "else:\n",
    "    print(f\"Error: {response.status_code}\")\n",
    "    print(response.text)"
   ]
  },
  {
   "cell_type": "code",
   "execution_count": 68,
   "metadata": {},
   "outputs": [],
   "source": [
    "import pytz\n",
    "from datetime import datetime\n",
    "\n",
    "def convert_time_stamp(timestamp_str):\n",
    "    # Deinerer tidssonen for pytz\n",
    "    utc_timezone = pytz.timezone('UTC')\n",
    "\n",
    "    # Setter tidssonen vi vil ha det i\n",
    "    local_timezone = pytz.timezone('Europe/Copenhagen')  # Replace 'Your/Timezone' with your timezone\n",
    "\n",
    "    # Konverterer stringen til et datetime objekt\n",
    "    timestamp_utc = datetime.strptime(timestamp_str, '%Y-%m-%dT%H:%M:%SZ')\n",
    "\n",
    "    # Lokaliserer strengen til utc\n",
    "    timestamp_utc = utc_timezone.localize(timestamp_utc)\n",
    "\n",
    "    # Konverterer til vår lokale tidssone som vi satte før\n",
    "    timestamp_local = timestamp_utc.astimezone(local_timezone)\n",
    "\n",
    "    # Formatterer strengen slik at den er mer lesbar og gir mening for oss\n",
    "    local_timestamp_str = timestamp_local.strftime('%Y-%m-%d %H:%M:%S %Z')\n",
    "\n",
    "    return local_timestamp_str"
   ]
  },
  {
   "cell_type": "code",
   "execution_count": null,
   "metadata": {},
   "outputs": [],
   "source": []
  },
  {
   "cell_type": "code",
   "execution_count": 69,
   "metadata": {},
   "outputs": [
    {
     "name": "stdout",
     "output_type": "stream",
     "text": [
      "{'type': 'Feature', 'geometry': {'type': 'Point', 'coordinates': [10.7166, 59.9333, 55]}, 'properties': {'meta': {'updated_at': '2024-02-12T17:18:52Z', 'units': {'air_temperature': 'celsius', 'precipitation_amount': 'mm', 'precipitation_rate': 'mm/h', 'relative_humidity': '%', 'wind_from_direction': 'degrees', 'wind_speed': 'm/s', 'wind_speed_of_gust': 'm/s'}, 'radar_coverage': 'ok'}, 'timeseries': [{'time': '2024-02-12T17:20:00Z', 'data': {'instant': {'details': {'air_temperature': -3.6, 'precipitation_rate': 0.4, 'relative_humidity': 82.4, 'wind_from_direction': 37.4, 'wind_speed': 3.7, 'wind_speed_of_gust': 7.3}}, 'next_1_hours': {'summary': {'symbol_code': 'snow'}, 'details': {'precipitation_amount': 0.4}}}}, {'time': '2024-02-12T17:25:00Z', 'data': {'instant': {'details': {'precipitation_rate': 0.4}}}}, {'time': '2024-02-12T17:30:00Z', 'data': {'instant': {'details': {'precipitation_rate': 0.4}}}}, {'time': '2024-02-12T17:35:00Z', 'data': {'instant': {'details': {'precipitation_rate': 0.4}}}}, {'time': '2024-02-12T17:40:00Z', 'data': {'instant': {'details': {'precipitation_rate': 0.4}}}}, {'time': '2024-02-12T17:45:00Z', 'data': {'instant': {'details': {'precipitation_rate': 0.4}}}}, {'time': '2024-02-12T17:50:00Z', 'data': {'instant': {'details': {'precipitation_rate': 0.4}}}}, {'time': '2024-02-12T17:55:00Z', 'data': {'instant': {'details': {'precipitation_rate': 0.4}}}}, {'time': '2024-02-12T18:00:00Z', 'data': {'instant': {'details': {'precipitation_rate': 0.4}}}}, {'time': '2024-02-12T18:05:00Z', 'data': {'instant': {'details': {'precipitation_rate': 0.4}}}}, {'time': '2024-02-12T18:10:00Z', 'data': {'instant': {'details': {'precipitation_rate': 0.4}}}}, {'time': '2024-02-12T18:15:00Z', 'data': {'instant': {'details': {'precipitation_rate': 0.4}}}}, {'time': '2024-02-12T18:20:00Z', 'data': {'instant': {'details': {'precipitation_rate': 0.4}}}}, {'time': '2024-02-12T18:25:00Z', 'data': {'instant': {'details': {'precipitation_rate': 0.3}}}}, {'time': '2024-02-12T18:30:00Z', 'data': {'instant': {'details': {'precipitation_rate': 0.3}}}}, {'time': '2024-02-12T18:35:00Z', 'data': {'instant': {'details': {'precipitation_rate': 0.2}}}}, {'time': '2024-02-12T18:40:00Z', 'data': {'instant': {'details': {'precipitation_rate': 0.2}}}}, {'time': '2024-02-12T18:45:00Z', 'data': {'instant': {'details': {'precipitation_rate': 0.2}}}}, {'time': '2024-02-12T18:50:00Z', 'data': {'instant': {'details': {'precipitation_rate': 0.2}}}}, {'time': '2024-02-12T18:55:00Z', 'data': {'instant': {'details': {'precipitation_rate': 0.2}}}}, {'time': '2024-02-12T19:00:00Z', 'data': {'instant': {'details': {'precipitation_rate': 0.2}}}}, {'time': '2024-02-12T19:05:00Z', 'data': {'instant': {'details': {'precipitation_rate': 0.2}}}}, {'time': '2024-02-12T19:10:00Z', 'data': {'instant': {'details': {'precipitation_rate': 0.2}}}}]}}\n"
     ]
    }
   ],
   "source": [
    "print(result)"
   ]
  },
  {
   "cell_type": "code",
   "execution_count": null,
   "metadata": {},
   "outputs": [],
   "source": [
    "# Lage variabler med dictonaries med relevant informasjon\n",
    "\n",
    "updated_at = result[\"properties\"][\"meta\"][\"updated_at\"]\n",
    "units_dict = result[\"properties\"][\"meta\"][\"units\"]\n"
   ]
  },
  {
   "cell_type": "code",
   "execution_count": null,
   "metadata": {},
   "outputs": [],
   "source": [
    "units_measured_list = result[\"properties\"][\"timeseries\"]"
   ]
  },
  {
   "cell_type": "code",
   "execution_count": null,
   "metadata": {},
   "outputs": [],
   "source": [
    "# Lage noe her som tar tiden og konverterer i formatet jeg har satt nedenfor også joiner det sammen\n",
    "\n",
    "for i in units_measured_list:\n",
    "    print(i)"
   ]
  },
  {
   "cell_type": "code",
   "execution_count": null,
   "metadata": {},
   "outputs": [],
   "source": [
    "units_dict"
   ]
  },
  {
   "cell_type": "code",
   "execution_count": null,
   "metadata": {},
   "outputs": [],
   "source": [
    "unit_df = pd.DataFrame.from_dict(units_dict, orient='index', columns=['Unit'])\n",
    "unit_df.index.name = 'Attribute'"
   ]
  },
  {
   "cell_type": "code",
   "execution_count": null,
   "metadata": {},
   "outputs": [],
   "source": [
    "unit_df"
   ]
  },
  {
   "cell_type": "markdown",
   "metadata": {},
   "source": []
  },
  {
   "cell_type": "code",
   "execution_count": null,
   "metadata": {},
   "outputs": [],
   "source": [
    "\n",
    "converted_time = convert_time_stamp(updated_at)\n",
    "print(f\"Sist oppdatert at {converted_time}\")"
   ]
  }
 ],
 "metadata": {
  "kernelspec": {
   "display_name": "Python 3",
   "language": "python",
   "name": "python3"
  },
  "language_info": {
   "codemirror_mode": {
    "name": "ipython",
    "version": 3
   },
   "file_extension": ".py",
   "mimetype": "text/x-python",
   "name": "python",
   "nbconvert_exporter": "python",
   "pygments_lexer": "ipython3",
   "version": "3.11.3"
  }
 },
 "nbformat": 4,
 "nbformat_minor": 2
}
