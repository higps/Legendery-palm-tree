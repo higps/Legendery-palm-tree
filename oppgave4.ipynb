{
 "cells": [
  {
   "cell_type": "code",
   "execution_count": 49,
   "metadata": {},
   "outputs": [],
   "source": [
    "import pandas as pd\n",
    "import requests"
   ]
  },
  {
   "cell_type": "code",
   "execution_count": 50,
   "metadata": {},
   "outputs": [],
   "source": [
    "\n",
    "lat = 59.9333\n",
    "lon = 10.7166\n",
    "\n",
    "url = f\"https://api.met.no/weatherapi/nowcast/2.0/complete?lat={lat}&lon={lon}\"\n",
    "headers = {\"User-Agent\": \"WeatherTest/1.0 skybert@gmail.com\"}\n",
    "\n",
    "response = requests.get(url, headers=headers)\n",
    "result = {}\n",
    "\n",
    "if response.status_code == 200:\n",
    "    result = response.json()\n",
    "else:\n",
    "    print(f\"Error: {response.status_code}\")\n",
    "    print(response.text)"
   ]
  },
  {
   "cell_type": "code",
   "execution_count": 51,
   "metadata": {},
   "outputs": [],
   "source": [
    "import pytz\n",
    "from datetime import datetime\n",
    "\n",
    "def convert_time_stamp(timestamp_str):\n",
    "    # Deinerer tidssonen for pytz\n",
    "    utc_timezone = pytz.timezone('UTC')\n",
    "\n",
    "    # Setter tidssonen vi vil ha det i\n",
    "    local_timezone = pytz.timezone('Europe/Copenhagen')  # Replace 'Your/Timezone' with your timezone\n",
    "\n",
    "    # Konverterer stringen til et datetime objekt\n",
    "    timestamp_utc = datetime.strptime(timestamp_str, '%Y-%m-%dT%H:%M:%SZ')\n",
    "\n",
    "    # Lokaliserer strengen til utc\n",
    "    timestamp_utc = utc_timezone.localize(timestamp_utc)\n",
    "\n",
    "    # Konverterer til vår lokale tidssone som vi satte før\n",
    "    timestamp_local = timestamp_utc.astimezone(local_timezone)\n",
    "\n",
    "    # Formatterer strengen slik at den er mer lesbar og gir mening for oss\n",
    "    local_timestamp_str = timestamp_local.strftime('%Y-%m-%d %H:%M:%S %Z')\n",
    "\n",
    "    return local_timestamp_str"
   ]
  },
  {
   "cell_type": "code",
   "execution_count": null,
   "metadata": {},
   "outputs": [],
   "source": []
  },
  {
   "cell_type": "code",
   "execution_count": 52,
   "metadata": {},
   "outputs": [
    {
     "name": "stdout",
     "output_type": "stream",
     "text": [
      "{'type': 'Feature', 'geometry': {'type': 'Point', 'coordinates': [10.7166, 59.9333, 55]}, 'properties': {'meta': {'updated_at': '2024-02-12T16:09:13Z', 'units': {'air_temperature': 'celsius', 'precipitation_amount': 'mm', 'precipitation_rate': 'mm/h', 'relative_humidity': '%', 'wind_from_direction': 'degrees', 'wind_speed': 'm/s', 'wind_speed_of_gust': 'm/s'}, 'radar_coverage': 'ok'}, 'timeseries': [{'time': '2024-02-12T16:10:00Z', 'data': {'instant': {'details': {'air_temperature': -3.7, 'precipitation_rate': 0.5, 'relative_humidity': 81.0, 'wind_from_direction': 37.1, 'wind_speed': 4.1, 'wind_speed_of_gust': 8.6}}, 'next_1_hours': {'summary': {'symbol_code': 'snow'}, 'details': {'precipitation_amount': 0.4}}}}, {'time': '2024-02-12T16:15:00Z', 'data': {'instant': {'details': {'precipitation_rate': 0.4}}}}, {'time': '2024-02-12T16:20:00Z', 'data': {'instant': {'details': {'precipitation_rate': 0.5}}}}, {'time': '2024-02-12T16:25:00Z', 'data': {'instant': {'details': {'precipitation_rate': 0.4}}}}, {'time': '2024-02-12T16:30:00Z', 'data': {'instant': {'details': {'precipitation_rate': 0.4}}}}, {'time': '2024-02-12T16:35:00Z', 'data': {'instant': {'details': {'precipitation_rate': 0.4}}}}, {'time': '2024-02-12T16:40:00Z', 'data': {'instant': {'details': {'precipitation_rate': 0.4}}}}, {'time': '2024-02-12T16:45:00Z', 'data': {'instant': {'details': {'precipitation_rate': 0.4}}}}, {'time': '2024-02-12T16:50:00Z', 'data': {'instant': {'details': {'precipitation_rate': 0.4}}}}, {'time': '2024-02-12T16:55:00Z', 'data': {'instant': {'details': {'precipitation_rate': 0.4}}}}, {'time': '2024-02-12T17:00:00Z', 'data': {'instant': {'details': {'precipitation_rate': 0.4}}}}, {'time': '2024-02-12T17:05:00Z', 'data': {'instant': {'details': {'precipitation_rate': 0.4}}}}, {'time': '2024-02-12T17:10:00Z', 'data': {'instant': {'details': {'precipitation_rate': 0.4}}}}, {'time': '2024-02-12T17:15:00Z', 'data': {'instant': {'details': {'precipitation_rate': 0.4}}}}, {'time': '2024-02-12T17:20:00Z', 'data': {'instant': {'details': {'precipitation_rate': 0.4}}}}, {'time': '2024-02-12T17:25:00Z', 'data': {'instant': {'details': {'precipitation_rate': 0.4}}}}, {'time': '2024-02-12T17:30:00Z', 'data': {'instant': {'details': {'precipitation_rate': 0.4}}}}, {'time': '2024-02-12T17:35:00Z', 'data': {'instant': {'details': {'precipitation_rate': 0.4}}}}, {'time': '2024-02-12T17:40:00Z', 'data': {'instant': {'details': {'precipitation_rate': 0.4}}}}, {'time': '2024-02-12T17:45:00Z', 'data': {'instant': {'details': {'precipitation_rate': 0.4}}}}, {'time': '2024-02-12T17:50:00Z', 'data': {'instant': {'details': {'precipitation_rate': 0.4}}}}, {'time': '2024-02-12T17:55:00Z', 'data': {'instant': {'details': {'precipitation_rate': 0.3}}}}, {'time': '2024-02-12T18:00:00Z', 'data': {'instant': {'details': {'precipitation_rate': 0.3}}}}]}}\n"
     ]
    }
   ],
   "source": [
    "print(result)"
   ]
  },
  {
   "cell_type": "code",
   "execution_count": 58,
   "metadata": {},
   "outputs": [
    {
     "ename": "TypeError",
     "evalue": "list indices must be integers or slices, not str",
     "output_type": "error",
     "traceback": [
      "\u001b[1;31m---------------------------------------------------------------------------\u001b[0m",
      "\u001b[1;31mTypeError\u001b[0m                                 Traceback (most recent call last)",
      "Cell \u001b[1;32mIn[58], line 5\u001b[0m\n\u001b[0;32m      3\u001b[0m updated_at \u001b[38;5;241m=\u001b[39m result[\u001b[38;5;124m\"\u001b[39m\u001b[38;5;124mproperties\u001b[39m\u001b[38;5;124m\"\u001b[39m][\u001b[38;5;124m\"\u001b[39m\u001b[38;5;124mmeta\u001b[39m\u001b[38;5;124m\"\u001b[39m][\u001b[38;5;124m\"\u001b[39m\u001b[38;5;124mupdated_at\u001b[39m\u001b[38;5;124m\"\u001b[39m]\n\u001b[0;32m      4\u001b[0m units_dict \u001b[38;5;241m=\u001b[39m result[\u001b[38;5;124m\"\u001b[39m\u001b[38;5;124mproperties\u001b[39m\u001b[38;5;124m\"\u001b[39m][\u001b[38;5;124m\"\u001b[39m\u001b[38;5;124mmeta\u001b[39m\u001b[38;5;124m\"\u001b[39m][\u001b[38;5;124m\"\u001b[39m\u001b[38;5;124munits\u001b[39m\u001b[38;5;124m\"\u001b[39m]\n\u001b[1;32m----> 5\u001b[0m units_measured_dict \u001b[38;5;241m=\u001b[39m \u001b[43mresult\u001b[49m\u001b[43m[\u001b[49m\u001b[38;5;124;43m\"\u001b[39;49m\u001b[38;5;124;43mproperties\u001b[39;49m\u001b[38;5;124;43m\"\u001b[39;49m\u001b[43m]\u001b[49m\u001b[43m[\u001b[49m\u001b[38;5;124;43m\"\u001b[39;49m\u001b[38;5;124;43mtimeseries\u001b[39;49m\u001b[38;5;124;43m\"\u001b[39;49m\u001b[43m]\u001b[49m\u001b[43m[\u001b[49m\u001b[38;5;124;43m\"\u001b[39;49m\u001b[38;5;124;43mdata\u001b[39;49m\u001b[38;5;124;43m\"\u001b[39;49m\u001b[43m]\u001b[49m[\u001b[38;5;124m\"\u001b[39m\u001b[38;5;124minstat\u001b[39m\u001b[38;5;124m\"\u001b[39m][\u001b[38;5;124m\"\u001b[39m\u001b[38;5;124mdetails\u001b[39m\u001b[38;5;124m\"\u001b[39m]\n",
      "\u001b[1;31mTypeError\u001b[0m: list indices must be integers or slices, not str"
     ]
    }
   ],
   "source": [
    "# Lage variabler med dictonaries med relevant informasjon\n",
    "\n",
    "updated_at = result[\"properties\"][\"meta\"][\"updated_at\"]\n",
    "units_dict = result[\"properties\"][\"meta\"][\"units\"]\n"
   ]
  },
  {
   "cell_type": "code",
   "execution_count": 60,
   "metadata": {},
   "outputs": [
    {
     "data": {
      "text/plain": [
       "[{'time': '2024-02-12T16:10:00Z',\n",
       "  'data': {'instant': {'details': {'air_temperature': -3.7,\n",
       "     'precipitation_rate': 0.5,\n",
       "     'relative_humidity': 81.0,\n",
       "     'wind_from_direction': 37.1,\n",
       "     'wind_speed': 4.1,\n",
       "     'wind_speed_of_gust': 8.6}},\n",
       "   'next_1_hours': {'summary': {'symbol_code': 'snow'},\n",
       "    'details': {'precipitation_amount': 0.4}}}},\n",
       " {'time': '2024-02-12T16:15:00Z',\n",
       "  'data': {'instant': {'details': {'precipitation_rate': 0.4}}}},\n",
       " {'time': '2024-02-12T16:20:00Z',\n",
       "  'data': {'instant': {'details': {'precipitation_rate': 0.5}}}},\n",
       " {'time': '2024-02-12T16:25:00Z',\n",
       "  'data': {'instant': {'details': {'precipitation_rate': 0.4}}}},\n",
       " {'time': '2024-02-12T16:30:00Z',\n",
       "  'data': {'instant': {'details': {'precipitation_rate': 0.4}}}},\n",
       " {'time': '2024-02-12T16:35:00Z',\n",
       "  'data': {'instant': {'details': {'precipitation_rate': 0.4}}}},\n",
       " {'time': '2024-02-12T16:40:00Z',\n",
       "  'data': {'instant': {'details': {'precipitation_rate': 0.4}}}},\n",
       " {'time': '2024-02-12T16:45:00Z',\n",
       "  'data': {'instant': {'details': {'precipitation_rate': 0.4}}}},\n",
       " {'time': '2024-02-12T16:50:00Z',\n",
       "  'data': {'instant': {'details': {'precipitation_rate': 0.4}}}},\n",
       " {'time': '2024-02-12T16:55:00Z',\n",
       "  'data': {'instant': {'details': {'precipitation_rate': 0.4}}}},\n",
       " {'time': '2024-02-12T17:00:00Z',\n",
       "  'data': {'instant': {'details': {'precipitation_rate': 0.4}}}},\n",
       " {'time': '2024-02-12T17:05:00Z',\n",
       "  'data': {'instant': {'details': {'precipitation_rate': 0.4}}}},\n",
       " {'time': '2024-02-12T17:10:00Z',\n",
       "  'data': {'instant': {'details': {'precipitation_rate': 0.4}}}},\n",
       " {'time': '2024-02-12T17:15:00Z',\n",
       "  'data': {'instant': {'details': {'precipitation_rate': 0.4}}}},\n",
       " {'time': '2024-02-12T17:20:00Z',\n",
       "  'data': {'instant': {'details': {'precipitation_rate': 0.4}}}},\n",
       " {'time': '2024-02-12T17:25:00Z',\n",
       "  'data': {'instant': {'details': {'precipitation_rate': 0.4}}}},\n",
       " {'time': '2024-02-12T17:30:00Z',\n",
       "  'data': {'instant': {'details': {'precipitation_rate': 0.4}}}},\n",
       " {'time': '2024-02-12T17:35:00Z',\n",
       "  'data': {'instant': {'details': {'precipitation_rate': 0.4}}}},\n",
       " {'time': '2024-02-12T17:40:00Z',\n",
       "  'data': {'instant': {'details': {'precipitation_rate': 0.4}}}},\n",
       " {'time': '2024-02-12T17:45:00Z',\n",
       "  'data': {'instant': {'details': {'precipitation_rate': 0.4}}}},\n",
       " {'time': '2024-02-12T17:50:00Z',\n",
       "  'data': {'instant': {'details': {'precipitation_rate': 0.4}}}},\n",
       " {'time': '2024-02-12T17:55:00Z',\n",
       "  'data': {'instant': {'details': {'precipitation_rate': 0.3}}}},\n",
       " {'time': '2024-02-12T18:00:00Z',\n",
       "  'data': {'instant': {'details': {'precipitation_rate': 0.3}}}}]"
      ]
     },
     "execution_count": 60,
     "metadata": {},
     "output_type": "execute_result"
    }
   ],
   "source": [
    "units_measured_list = result[\"properties\"][\"timeseries\"]"
   ]
  },
  {
   "cell_type": "code",
   "execution_count": 62,
   "metadata": {},
   "outputs": [
    {
     "name": "stdout",
     "output_type": "stream",
     "text": [
      "2024-02-12T16:10:00Z\n",
      "2024-02-12T16:15:00Z\n",
      "2024-02-12T16:20:00Z\n",
      "2024-02-12T16:25:00Z\n",
      "2024-02-12T16:30:00Z\n",
      "2024-02-12T16:35:00Z\n",
      "2024-02-12T16:40:00Z\n",
      "2024-02-12T16:45:00Z\n",
      "2024-02-12T16:50:00Z\n",
      "2024-02-12T16:55:00Z\n",
      "2024-02-12T17:00:00Z\n",
      "2024-02-12T17:05:00Z\n",
      "2024-02-12T17:10:00Z\n",
      "2024-02-12T17:15:00Z\n",
      "2024-02-12T17:20:00Z\n",
      "2024-02-12T17:25:00Z\n",
      "2024-02-12T17:30:00Z\n",
      "2024-02-12T17:35:00Z\n",
      "2024-02-12T17:40:00Z\n",
      "2024-02-12T17:45:00Z\n",
      "2024-02-12T17:50:00Z\n",
      "2024-02-12T17:55:00Z\n",
      "2024-02-12T18:00:00Z\n"
     ]
    }
   ],
   "source": [
    "# Lage noe her som tar tiden og konverterer i formatet jeg har satt nedenfor også joiner det sammen\n",
    "\n",
    "for i in units_measured_list:\n",
    "    print(i[\"time\"])"
   ]
  },
  {
   "cell_type": "code",
   "execution_count": 54,
   "metadata": {},
   "outputs": [
    {
     "data": {
      "text/plain": [
       "{'air_temperature': 'celsius',\n",
       " 'precipitation_amount': 'mm',\n",
       " 'precipitation_rate': 'mm/h',\n",
       " 'relative_humidity': '%',\n",
       " 'wind_from_direction': 'degrees',\n",
       " 'wind_speed': 'm/s',\n",
       " 'wind_speed_of_gust': 'm/s'}"
      ]
     },
     "execution_count": 54,
     "metadata": {},
     "output_type": "execute_result"
    }
   ],
   "source": [
    "units_dict"
   ]
  },
  {
   "cell_type": "code",
   "execution_count": 55,
   "metadata": {},
   "outputs": [],
   "source": [
    "unit_df = pd.DataFrame.from_dict(units_dict, orient='index', columns=['Unit'])\n",
    "unit_df.index.name = 'Attribute'"
   ]
  },
  {
   "cell_type": "code",
   "execution_count": 56,
   "metadata": {},
   "outputs": [
    {
     "data": {
      "text/html": [
       "<div>\n",
       "<style scoped>\n",
       "    .dataframe tbody tr th:only-of-type {\n",
       "        vertical-align: middle;\n",
       "    }\n",
       "\n",
       "    .dataframe tbody tr th {\n",
       "        vertical-align: top;\n",
       "    }\n",
       "\n",
       "    .dataframe thead th {\n",
       "        text-align: right;\n",
       "    }\n",
       "</style>\n",
       "<table border=\"1\" class=\"dataframe\">\n",
       "  <thead>\n",
       "    <tr style=\"text-align: right;\">\n",
       "      <th></th>\n",
       "      <th>Unit</th>\n",
       "    </tr>\n",
       "    <tr>\n",
       "      <th>Attribute</th>\n",
       "      <th></th>\n",
       "    </tr>\n",
       "  </thead>\n",
       "  <tbody>\n",
       "    <tr>\n",
       "      <th>air_temperature</th>\n",
       "      <td>celsius</td>\n",
       "    </tr>\n",
       "    <tr>\n",
       "      <th>precipitation_amount</th>\n",
       "      <td>mm</td>\n",
       "    </tr>\n",
       "    <tr>\n",
       "      <th>precipitation_rate</th>\n",
       "      <td>mm/h</td>\n",
       "    </tr>\n",
       "    <tr>\n",
       "      <th>relative_humidity</th>\n",
       "      <td>%</td>\n",
       "    </tr>\n",
       "    <tr>\n",
       "      <th>wind_from_direction</th>\n",
       "      <td>degrees</td>\n",
       "    </tr>\n",
       "    <tr>\n",
       "      <th>wind_speed</th>\n",
       "      <td>m/s</td>\n",
       "    </tr>\n",
       "    <tr>\n",
       "      <th>wind_speed_of_gust</th>\n",
       "      <td>m/s</td>\n",
       "    </tr>\n",
       "  </tbody>\n",
       "</table>\n",
       "</div>"
      ],
      "text/plain": [
       "                         Unit\n",
       "Attribute                    \n",
       "air_temperature       celsius\n",
       "precipitation_amount       mm\n",
       "precipitation_rate       mm/h\n",
       "relative_humidity           %\n",
       "wind_from_direction   degrees\n",
       "wind_speed                m/s\n",
       "wind_speed_of_gust        m/s"
      ]
     },
     "execution_count": 56,
     "metadata": {},
     "output_type": "execute_result"
    }
   ],
   "source": [
    "unit_df"
   ]
  },
  {
   "cell_type": "markdown",
   "metadata": {},
   "source": []
  },
  {
   "cell_type": "code",
   "execution_count": 57,
   "metadata": {},
   "outputs": [
    {
     "name": "stdout",
     "output_type": "stream",
     "text": [
      "Sist oppdatert at 2024-02-12 17:09:13 CET\n"
     ]
    }
   ],
   "source": [
    "\n",
    "converted_time = convert_time_stamp(updated_at)\n",
    "print(f\"Sist oppdatert at {converted_time}\")"
   ]
  }
 ],
 "metadata": {
  "kernelspec": {
   "display_name": "Python 3",
   "language": "python",
   "name": "python3"
  },
  "language_info": {
   "codemirror_mode": {
    "name": "ipython",
    "version": 3
   },
   "file_extension": ".py",
   "mimetype": "text/x-python",
   "name": "python",
   "nbconvert_exporter": "python",
   "pygments_lexer": "ipython3",
   "version": "3.11.3"
  }
 },
 "nbformat": 4,
 "nbformat_minor": 2
}
